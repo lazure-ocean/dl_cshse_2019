{
 "cells": [
  {
   "cell_type": "code",
   "execution_count": 1,
   "metadata": {},
   "outputs": [],
   "source": [
    "import numpy as np\n",
    "import torch\n",
    "import torch.nn as nn\n",
    "import torch.nn.functional as F"
   ]
  },
  {
   "cell_type": "code",
   "execution_count": 67,
   "metadata": {},
   "outputs": [],
   "source": [
    "def generate_mask(batch_size, sequence_length, is_present=0.7):\n",
    "    mask = np.random.binomial(1, is_present, size=(batch_size, sequence_length))\n",
    "    return torch.from_numpy(mask).long()"
   ]
  },
  {
   "cell_type": "code",
   "execution_count": 68,
   "metadata": {},
   "outputs": [],
   "source": [
    "def transform_input_with_is_missing_token(inputs, targets_present, masked_value):\n",
    "    \"\"\"\n",
    "    e.g. \n",
    "        inputs = [a, b, c, d, e]\n",
    "        targets = [b, c, d, e, f]\n",
    "        targets_present = [1, 0, 1, 0, 1]\n",
    "        masked_value = <m>\n",
    "        \n",
    "    then,\n",
    "        transformed_input = [a, b, <m>, d, <m>]\n",
    "        \n",
    "    Args:\n",
    "        inputs: tensor with shape [batch_size, sequence_length] with tokens\n",
    "        targets_present: tensor with shape [batch_size, sequence_length] with 1. representing presence of a word of dtype=torch.long\n",
    "        \n",
    "    from github.com/tensorflow/models/blob/master/research/maskgan\n",
    "    \"\"\"\n",
    "    mask = torch.cat((torch.zeros((inputs.size()[0], 1), dtype=torch.long), targets_present[:,:-1]), dim=1)\n",
    "    transformed_input = inputs * mask + masked_value * torch.ones(inputs.size(), dtype=torch.long) * (1 - mask)\n",
    "    return transformed_input"
   ]
  },
  {
   "cell_type": "code",
   "execution_count": 73,
   "metadata": {},
   "outputs": [
    {
     "name": "stdout",
     "output_type": "stream",
     "text": [
      "tensor([[1, 1, 1, 0],\n",
      "        [1, 1, 1, 1],\n",
      "        [0, 1, 0, 1]]) \n",
      " tensor([[57,  2,  3,  4],\n",
      "        [57,  6,  7,  8],\n",
      "        [57, 57, 11, 57]])\n"
     ]
    }
   ],
   "source": [
    "batch_size = 3\n",
    "sequence_length = 4\n",
    "\n",
    "\n",
    "input_ = torch.from_numpy(np.arange(1, 13).reshape(3, 4)).long()\n",
    "\n",
    "present = generate_mask(3, 4)\n",
    "transformed_input = transform_input_with_is_missing_token(input_, present, 57)\n",
    "print(present, '\\n', transformed_input)"
   ]
  },
  {
   "cell_type": "code",
   "execution_count": 72,
   "metadata": {},
   "outputs": [],
   "source": [
    "class GeneratorEncoder(nn.Module): \n",
    "    def __init__(self, input_size, hidden_size):\n",
    "        super(GeneratorEncoder, self).__init__()\n",
    "        self.hidden_size = hidden_size\n",
    "\n",
    "        self.embedding = nn.Embedding(input_size, hidden_size)\n",
    "        self.gru = nn.GRU(hidden_size, hidden_size) # based on GRU just for now\n",
    "\n",
    "    def forward(self, input, hidden):\n",
    "        embedded = self.embedding(input).view(1, 1, -1)\n",
    "        output = embedded\n",
    "        output, hidden = self.gru(output, hidden)\n",
    "        return output, hidden\n",
    "\n",
    "    def initHidden(self):\n",
    "        return torch.zeros(1, 1, self.hidden_size, device=device)"
   ]
  },
  {
   "cell_type": "code",
   "execution_count": 5,
   "metadata": {},
   "outputs": [],
   "source": [
    "class GeneratorDecoder(nn.Module):\n",
    "    def __init__(self, hidden_size, output_size):\n",
    "        super(GeneratorDecoder, self).__init__()\n",
    "        self.hidden_size = hidden_size\n",
    "\n",
    "        self.embedding = nn.Embedding(output_size, hidden_size)\n",
    "        self.gru = nn.GRU(hidden_size, hidden_size)\n",
    "        self.out = nn.Linear(hidden_size, output_size)\n",
    "        self.softmax = nn.LogSoftmax(dim=1)\n",
    "\n",
    "    def forward(self, input, hidden):\n",
    "        output = self.embedding(input).view(1, 1, -1)\n",
    "        output = F.relu(output)\n",
    "        output, hidden = self.gru(output, hidden)\n",
    "        output = self.softmax(self.out(output[0]))\n",
    "        return output, hidden\n",
    "\n",
    "    def initHidden(self):\n",
    "        return torch.zeros(1, 1, self.hidden_size, device=device)"
   ]
  }
 ],
 "metadata": {
  "kernelspec": {
   "display_name": "Python 3",
   "language": "python",
   "name": "python3"
  },
  "language_info": {
   "codemirror_mode": {
    "name": "ipython",
    "version": 3
   },
   "file_extension": ".py",
   "mimetype": "text/x-python",
   "name": "python",
   "nbconvert_exporter": "python",
   "pygments_lexer": "ipython3",
   "version": "3.6.5"
  }
 },
 "nbformat": 4,
 "nbformat_minor": 2
}
