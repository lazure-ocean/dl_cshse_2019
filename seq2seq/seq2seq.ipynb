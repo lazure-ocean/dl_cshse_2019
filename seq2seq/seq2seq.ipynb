{
 "cells": [
  {
   "cell_type": "markdown",
   "metadata": {},
   "source": [
    "Inspired from PyTorch Tutorial [Translation with a Sequence to Sequence Network and Attention](https://pytorch.org/tutorials/intermediate/seq2seq_translation_tutorial.html)"
   ]
  },
  {
   "cell_type": "code",
   "execution_count": 2,
   "metadata": {},
   "outputs": [],
   "source": [
    "from __future__ import unicode_literals, print_function, division\n",
    "from io import open\n",
    "import unicodedata\n",
    "import string\n",
    "import re\n",
    "import random\n",
    "\n",
    "import numpy as np\n",
    "import torch\n",
    "import torch.nn as nn\n",
    "from torch import optim\n",
    "import torch.nn.functional as F\n",
    "\n",
    "from torchnlp.datasets import imdb_dataset\n",
    "from torchnlp.datasets import penn_treebank_dataset\n",
    "%matplotlib inline\n",
    "\n",
    "device = torch.device(\"cuda\" if torch.cuda.is_available() else \"cpu\")"
   ]
  },
  {
   "cell_type": "code",
   "execution_count": 15,
   "metadata": {},
   "outputs": [],
   "source": [
    "SOS_token = 0\n",
    "EOS_token = 1\n",
    "MASKED_token = 2\n",
    "MAX_LENGTH = 42\n",
    "\n",
    "class Lang:\n",
    "    def __init__(self, name):\n",
    "        self.name = name\n",
    "        self.word2index = {\"SOSTOKEN\": 0, \"EOSTOKEN\": 1, \"MASKEDTOKEN\": 2}\n",
    "        self.index2word = {0: \"SOSTOKEN\", 1: \"EOSTOKEN\", 2: \"MASKEDTOKEN\"}\n",
    "        self.word2count = {\"SOSTOKEN\": 0, \"EOSTOKEN\": 0, \"MASKEDTOKEN\": 0}\n",
    "        \n",
    "        self.n_words = 3  # Count SOS and EOS and Masked token\n",
    "\n",
    "    def addSentence(self, sentence):\n",
    "        for word in sentence.split(' '):\n",
    "            self.addWord(word)\n",
    "\n",
    "    def addWord(self, word):\n",
    "        if word not in self.word2index:\n",
    "            self.word2index[word] = self.n_words\n",
    "            self.word2count[word] = 1\n",
    "            self.index2word[self.n_words] = word\n",
    "            self.n_words += 1\n",
    "        else:\n",
    "            self.word2count[word] += 1"
   ]
  },
  {
   "cell_type": "code",
   "execution_count": 16,
   "metadata": {},
   "outputs": [],
   "source": [
    "def unicodeToAscii(s):\n",
    "    \"\"\"\n",
    "    Turn a Unicode string to plain ASCII, thanks to\n",
    "    https://stackoverflow.com/a/518232/2809427\n",
    "    \"\"\"\n",
    "    return ''.join(\n",
    "        c for c in unicodedata.normalize('NFD', s)\n",
    "        if unicodedata.category(c) != 'Mn'\n",
    "    )\n",
    "\n",
    "def normalizeString(s):  # Lowercase, trim, and remove non-letter characters\n",
    "    s = unicodeToAscii(s.lower().strip())\n",
    "    #s = re.sub(r\"([.!?])\", r\" \\1\", s)\n",
    "    #s = re.sub(r\"[^a-zA-Z.!?]+\", r\" \", s)\n",
    "    s = re.sub(r\"[^a-zA-Z]+\", r\" \", s)\n",
    "    s = \" \".join(s.split()[:40])\n",
    "    return s"
   ]
  },
  {
   "cell_type": "code",
   "execution_count": 17,
   "metadata": {},
   "outputs": [],
   "source": [
    "def readLang(dataset_title):\n",
    "    \"\"\"\n",
    "    Args:\n",
    "        dataset_title: either 'imdb' or 'ptb'\n",
    "    \"\"\"\n",
    "    print(\"Reading lines...\")\n",
    "    if dataset_title == 'imdb':\n",
    "        train = imdb_dataset(train=True, directory='../data/')\n",
    "        # Read the dataset and split into lines\n",
    "        lines = [train[ind]['text'].strip() for ind, doc in enumerate(train)]\n",
    "        # Normalize lines\n",
    "        lines = [' '.join([\"SOSTOKEN\", normalizeString(s), \"EOSTOKEN\"]) for s in lines]\n",
    "        lang = Lang(dataset_title)\n",
    "    elif dataset_title == 'ptb':\n",
    "        raise NotImplementedError\n",
    "    return lang, lines"
   ]
  },
  {
   "cell_type": "code",
   "execution_count": 18,
   "metadata": {},
   "outputs": [],
   "source": [
    "def prepareData(dataset_title):\n",
    "    lang, lines = readLang(dataset_title)\n",
    "    print(\"Read %s sentence pairs\" % len(lines))\n",
    "    print(\"Counting words...\")\n",
    "    for l in lines:\n",
    "        lang.addSentence(l)\n",
    "    print(\"Counted words:\")\n",
    "    print(lang.name, lang.n_words)\n",
    "    return lang, lines"
   ]
  },
  {
   "cell_type": "markdown",
   "metadata": {},
   "source": [
    "The Encoder\n",
    "-----------"
   ]
  },
  {
   "cell_type": "code",
   "execution_count": 19,
   "metadata": {},
   "outputs": [],
   "source": [
    "class EncoderRNN(nn.Module):\n",
    "    def __init__(self, input_size, hidden_size):\n",
    "        super(EncoderRNN, self).__init__()\n",
    "        self.hidden_size = hidden_size\n",
    "\n",
    "        self.embedding = nn.Embedding(input_size, hidden_size)\n",
    "        #self.gru = nn.GRU(hidden_size, hidden_size)\n",
    "        self.lstm = nn.LSTM(hidden_size, hidden_size)\n",
    "\n",
    "    def forward(self, input, hidden):\n",
    "        embedded = self.embedding(input).view(1, 1, -1)\n",
    "        output = embedded\n",
    "        #output, hidden = self.gru(output, hidden)\n",
    "        output, hidden = self.lstm(output, hidden)\n",
    "        return output, hidden\n",
    "\n",
    "    def initHidden(self):\n",
    "        return (torch.zeros(1, 1, self.hidden_size, device=device),\n",
    "                torch.zeros(1, 1, self.hidden_size, device=device))"
   ]
  },
  {
   "cell_type": "markdown",
   "metadata": {},
   "source": [
    "The Decoder\n",
    "-----------"
   ]
  },
  {
   "cell_type": "code",
   "execution_count": 33,
   "metadata": {},
   "outputs": [],
   "source": [
    "class DecoderRNN(nn.Module):\n",
    "    def __init__(self, hidden_size, output_size):\n",
    "        super(DecoderRNN, self).__init__()\n",
    "        self.hidden_size = hidden_size\n",
    "\n",
    "        self.embedding = nn.Embedding(output_size, hidden_size)\n",
    "        #self.gru = nn.GRU(hidden_size, hidden_size)\n",
    "        self.lstm = nn.LSTM(hidden_size, hidden_size)\n",
    "        self.out = nn.Linear(hidden_size, output_size)\n",
    "        self.softmax = nn.LogSoftmax(dim=1)\n",
    "\n",
    "    def forward(self, input, hidden):\n",
    "        output = self.embedding(input).view(1, 1, -1)\n",
    "        output = F.relu(output)\n",
    "        #output, hidden = self.gru(output, hidden)\n",
    "        output, hidden = self.lstm(output, hidden)\n",
    "        output = self.softmax(self.out(output[0]))\n",
    "        return output, hidden\n",
    "\n",
    "    def initHidden(self):\n",
    "        return (torch.zeros(1, 1, self.hidden_size, device=device),\n",
    "                torch.zeros(1, 1, self.hidden_size, device=device))"
   ]
  },
  {
   "cell_type": "code",
   "execution_count": 104,
   "metadata": {},
   "outputs": [],
   "source": [
    "class AttnDecoderRNN(nn.Module):\n",
    "    def __init__(self, hidden_size, output_size, dropout_p=0.1, max_length=MAX_LENGTH):\n",
    "        super(AttnDecoderRNN, self).__init__()\n",
    "        self.hidden_size = hidden_size\n",
    "        self.output_size = output_size\n",
    "        self.dropout_p = dropout_p\n",
    "        self.max_length = max_length\n",
    "\n",
    "        self.embedding = nn.Embedding(self.output_size, self.hidden_size)\n",
    "        self.attn = nn.Linear(self.hidden_size * 2, self.max_length)\n",
    "        self.attn_combine = nn.Linear(self.hidden_size * 2, self.hidden_size)\n",
    "        self.dropout = nn.Dropout(self.dropout_p)\n",
    "        self.lstm = nn.LSTM(self.hidden_size, self.hidden_size)\n",
    "        self.out = nn.Linear(self.hidden_size, self.output_size)\n",
    "\n",
    "    def forward(self, input, hidden, encoder_outputs):\n",
    "        embedded = self.embedding(input).view(1, 1, -1)\n",
    "        embedded = self.dropout(embedded)\n",
    "        #print(input, embedded.shape, hidden[0].shape, encoder_outputs.shape)\n",
    "        attn_weights = F.softmax(\n",
    "            self.attn(torch.cat((embedded[0], hidden[0][0]), 1)), dim=1)\n",
    "        attn_applied = torch.bmm(attn_weights.unsqueeze(0),\n",
    "                                 encoder_outputs.unsqueeze(0))\n",
    "        #print(embedded.shape, attn_applied.shape)\n",
    "        output = torch.cat((embedded[0], attn_applied[0]), 1)\n",
    "        output = self.attn_combine(output).unsqueeze(0)\n",
    "\n",
    "        output = F.relu(output)\n",
    "        output, hidden = self.lstm(output, hidden)\n",
    "\n",
    "        output = F.log_softmax(self.out(output[0]), dim=1)\n",
    "        return output, hidden, attn_weights\n",
    "\n",
    "    def initHidden(self):\n",
    "        return torch.zeros(1, 1, self.hidden_size, device=device)"
   ]
  },
  {
   "cell_type": "code",
   "execution_count": 68,
   "metadata": {},
   "outputs": [],
   "source": [
    "def generate_mask(sequence_length, batch_size=None, is_present=0.7):\n",
    "    \"\"\"\n",
    "    e.g.\n",
    "    returns: [1, 1, 0, 1, 0, 1]\n",
    "    \"\"\"\n",
    "    if batch_size is not None:\n",
    "        mask = np.random.binomial(1, is_present, size=(batch_size, sequence_length))\n",
    "    elif batch_size is None:\n",
    "        mask = np.random.binomial(1, is_present, size=(sequence_length,))\n",
    "    return torch.from_numpy(mask).long()"
   ]
  },
  {
   "cell_type": "code",
   "execution_count": 59,
   "metadata": {},
   "outputs": [],
   "source": [
    "def transform_input_with_is_missing_token(inputs, targets_present, masked_value=\"MASKEDTOKEN\"):\n",
    "    \"\"\"\n",
    "    e.g. \n",
    "        inputs = [a, b, c, d, e]\n",
    "        targets = [b, c, d, e, f]\n",
    "        targets_present = [1, 0, 1, 0, 1]\n",
    "        masked_value = <m>\n",
    "        \n",
    "    then,\n",
    "        transformed_input = [a, b, <m>, d, <m>]\n",
    "        \n",
    "    Args:\n",
    "        inputs: tensor with shape [sequence_length] with tokens\n",
    "        targets_present: tensor with shape [sequence_length] with 1. representing presence of a word of dtype=torch.long\n",
    "        \n",
    "    from github.com/tensorflow/models/blob/master/research/maskgan\n",
    "    \"\"\"\n",
    "    transformed_input = [inputs[0]]\n",
    "    for ind, word in enumerate(inputs[1:]):\n",
    "        if targets_present[ind] == 1:\n",
    "            transformed_input.append(word)\n",
    "        elif targets_present[ind] == 0:\n",
    "            transformed_input.append(masked_value)\n",
    "    transformed_input[-1] = inputs[-1]\n",
    "    return transformed_input"
   ]
  },
  {
   "cell_type": "code",
   "execution_count": 60,
   "metadata": {},
   "outputs": [
    {
     "name": "stdout",
     "output_type": "stream",
     "text": [
      "['a', 'MASKEDTOKEN', 'c', 'MASKEDTOKEN', 'e', 'MASKEDTOKEN', 'MASKEDTOKEN', 'h', 'MASKEDTOKEN', 'j', 'MASKEDTOKEN', 'MASKEDTOKEN', 'm', 'MASKEDTOKEN', 'o', 'MASKEDTOKEN', 'MASKEDTOKEN', 'r', 'MASKEDTOKEN', 't', 'MASKEDTOKEN', 'MASKEDTOKEN', 'w', 'MASKEDTOKEN', 'y', 'z']\n"
     ]
    }
   ],
   "source": [
    "print(transform_input_with_is_missing_token(list(string.ascii_lowercase),\n",
    "                                      [(ind % 5) % 2 for ind, letter in enumerate(string.ascii_lowercase)]))"
   ]
  },
  {
   "cell_type": "markdown",
   "metadata": {},
   "source": [
    "Training\n",
    "========\n",
    "\n",
    "Preparing Training Data\n",
    "-----------------------\n",
    "\n",
    "To train, for each pair we will need an input tensor (indexes of the\n",
    "words in the input sentence) and target tensor (indexes of the words in\n",
    "the target sentence). While creating these vectors we will append the\n",
    "EOS token to both sequences.\n",
    "\n",
    "\n"
   ]
  },
  {
   "cell_type": "code",
   "execution_count": 61,
   "metadata": {},
   "outputs": [],
   "source": [
    "def indexesFromSentence(lang, sentence):\n",
    "    return [lang.word2index[word] for word in sentence.split(' ')]\n",
    "\n",
    "\n",
    "def tensorFromSentence(lang, sentence):\n",
    "    indexes = indexesFromSentence(lang, sentence)\n",
    "    #indexes.append(EOS_token)\n",
    "    return torch.tensor(indexes, dtype=torch.long, device=device).view(-1, 1)\n",
    "\n",
    "def tensorsForTrain(lang, sentence):\n",
    "    mask = generate_mask(len(sentence))\n",
    "    target_tensor = tensorFromSentence(lang, sentence)\n",
    "    transformed_sentence = \" \".join(transform_input_with_is_missing_token(sentence.split(), mask))\n",
    "    input_tensor = tensorFromSentence(lang, transformed_sentence)\n",
    "    return input_tensor, target_tensor\n",
    "\n",
    "def indexFromTensor(lang, decoder_output):\n",
    "    return decoder_output.max(0)[1]"
   ]
  },
  {
   "cell_type": "markdown",
   "metadata": {},
   "source": [
    "Training the Model\n",
    "------------------"
   ]
  },
  {
   "cell_type": "code",
   "execution_count": 107,
   "metadata": {},
   "outputs": [],
   "source": [
    "MAX_LENGTH = 42 # max(map(lambda x: len(x.split()), imdb_lines)) == 2516\n",
    "\n",
    "def train(input_tensor, target_tensor, encoder, decoder, encoder_optimizer, decoder_optimizer, lang, criterion, max_length=MAX_LENGTH):\n",
    "    #c_ = time()\n",
    "    encoder_hidden = encoder.initHidden()\n",
    "\n",
    "    encoder_optimizer.zero_grad()\n",
    "    decoder_optimizer.zero_grad()\n",
    "\n",
    "    input_length = input_tensor.size(0)\n",
    "    \n",
    "    encoder_outputs = torch.zeros(max_length, encoder.hidden_size, device=device)\n",
    "\n",
    "    loss = 0\n",
    "\n",
    "    for ei in range(input_length):\n",
    "        encoder_output, encoder_hidden = encoder(\n",
    "            input_tensor[ei], encoder_hidden)\n",
    "        encoder_outputs[ei] = encoder_output[0, 0]\n",
    "\n",
    "        \n",
    "    decoder_input = input_tensor[0]\n",
    "    decoder_hidden = encoder_hidden\n",
    "\n",
    "    for di in range(input_length):        \n",
    "        #print(encoder_outputs.shape)\n",
    "        decoder_output, decoder_hidden, decoder_attention  = decoder(\n",
    "            decoder_input, decoder_hidden, encoder_outputs)      \n",
    "        loss += criterion(decoder_output, target_tensor[di + 1])\n",
    "\n",
    "        if input_tensor[di + 1].item() == MASKED_token:\n",
    "            #topv, topi = decoder_output.topk(1)\n",
    "            #decoder_input = topi.squeeze().detach()  # detach from history as input\n",
    "            #print(decoder_output.min())\n",
    "            token_sample = torch.multinomial(torch.exp(decoder_output), 1)\n",
    "            decoder_input = token_sample.squeeze().detach()\n",
    "        else:\n",
    "            decoder_input = input_tensor[di + 1]\n",
    "\n",
    "        if input_tensor[di + 1].item() == EOS_token:\n",
    "            break\n",
    "\n",
    "    \n",
    "    loss.backward()\n",
    "\n",
    "    \n",
    "    encoder_optimizer.step()\n",
    "    decoder_optimizer.step()\n",
    "\n",
    "    return loss.item() / input_length"
   ]
  },
  {
   "cell_type": "code",
   "execution_count": 100,
   "metadata": {},
   "outputs": [],
   "source": [
    "from time import time\n",
    "import math\n",
    "\n",
    "\n",
    "def asMinutes(s):\n",
    "    m = math.floor(s / 60)\n",
    "    s -= m * 60\n",
    "    return '%dm %ds' % (m, s)\n",
    "\n",
    "\n",
    "def timeSince(since, percent):\n",
    "    now = time()\n",
    "    s = now - since\n",
    "    es = s / (percent)\n",
    "    rs = es - s\n",
    "    return '%s (- %s)' % (asMinutes(s), asMinutes(rs))"
   ]
  },
  {
   "cell_type": "code",
   "execution_count": 101,
   "metadata": {},
   "outputs": [],
   "source": [
    "def trainIters(encoder, decoder, lang, lines, n_iters, print_every=1000, plot_every=100, learning_rate=0.01):\n",
    "    #start = time.time()\n",
    "    start = time()\n",
    "    plot_losses = []\n",
    "    print_loss_total = 0  # Reset every print_every\n",
    "    plot_loss_total = 0  # Reset every plot_every\n",
    "\n",
    "    encoder_optimizer = optim.SGD(encoder.parameters(), lr=learning_rate)\n",
    "    decoder_optimizer = optim.SGD(decoder.parameters(), lr=learning_rate)\n",
    "    #training_pairs = [tensorsForTrain(lang, random.choice(lines)) for i in range(n_iters)]\n",
    "    training_pairs = [tensorsForTrain(lang, lines[0]) for i in range(n_iters)]\n",
    "    \n",
    "    criterion = nn.NLLLoss() # replaced NLLLoss()\n",
    "    \n",
    "    for iter in range(1, n_iters + 1):\n",
    "        #c_ = time()\n",
    "        training_pair = training_pairs[iter - 1]\n",
    "        input_tensor = training_pair[0]\n",
    "        target_tensor = training_pair[1]\n",
    "        #print('Pairs created ...', time() - c_)\n",
    "        #c_ = time()\n",
    "        loss = train(input_tensor, target_tensor, encoder,\n",
    "                     decoder, encoder_optimizer, decoder_optimizer, lang, criterion)\n",
    "        #print('Loss is done...', time() - c_)\n",
    "        #c_ = time()\n",
    "        print_loss_total += loss\n",
    "        plot_loss_total += loss\n",
    "\n",
    "        if iter % print_every == 0:\n",
    "            print_loss_avg = print_loss_total / print_every\n",
    "            print_loss_total = 0\n",
    "            print('%s (%d %d%%) %.4f' % (timeSince(start, iter / n_iters),\n",
    "                                         iter, iter / n_iters * 100, print_loss_avg))\n",
    "\n",
    "        if iter % plot_every == 0:\n",
    "            plot_loss_avg = plot_loss_total / plot_every\n",
    "            plot_losses.append(plot_loss_avg)\n",
    "            plot_loss_total = 0\n",
    "    showPlot(plot_losses)\n",
    "        "
   ]
  },
  {
   "cell_type": "markdown",
   "metadata": {},
   "source": [
    "Plotting results\n",
    "----------------"
   ]
  },
  {
   "cell_type": "code",
   "execution_count": 111,
   "metadata": {},
   "outputs": [],
   "source": [
    "import matplotlib.pyplot as plt\n",
    "#plt.switch_backend('agg')\n",
    "import matplotlib.ticker as ticker\n",
    "import numpy as np\n",
    "%matplotlib inline\n",
    "\n",
    "def showPlot(points):\n",
    "    #print(points)\n",
    "    plt.figure()\n",
    "    fig, ax = plt.subplots()\n",
    "    # this locator puts ticks at regular intervals\n",
    "    loc = ticker.MultipleLocator(base=0.2)\n",
    "    ax.yaxis.set_major_locator(loc)\n",
    "    plt.plot(points)\n",
    "    plt.grid()\n",
    "    plt.show();\n",
    "    print('plot was shown')"
   ]
  },
  {
   "cell_type": "markdown",
   "metadata": {},
   "source": [
    "Evaluation\n",
    "=========="
   ]
  },
  {
   "cell_type": "code",
   "execution_count": 89,
   "metadata": {},
   "outputs": [],
   "source": [
    "\"\"\"def evaluate(encoder, decoder, input_lang, input_tensor, max_length=MAX_LENGTH):\n",
    "    with torch.no_grad():\n",
    "        input_length = input_tensor.size()[0]\n",
    "        encoder_hidden = encoder.initHidden()\n",
    "\n",
    "        encoder_outputs = torch.zeros(max_length, encoder.hidden_size, device=device)\n",
    "\n",
    "        for ei in range(input_length):\n",
    "            encoder_output, encoder_hidden = encoder(input_tensor[ei],\n",
    "                                                     encoder_hidden)\n",
    "            encoder_outputs[ei] += encoder_output[0, 0]\n",
    "\n",
    "        #decoder_input = torch.tensor([[SOS_token]], device=device)  # SOS\n",
    "        decoder_input = input_tensor[0]\n",
    "        decoder_hidden = encoder_hidden\n",
    "\n",
    "        decoded_words = ['SOSTOKEN']\n",
    "        #decoder_attentions = torch.zeros(max_length, max_length)\n",
    "\n",
    "        for di in range(max_length):        \n",
    "            \n",
    "            decoder_output, decoder_hidden = decoder(\n",
    "                decoder_input, decoder_hidden)      \n",
    "\n",
    "            if input_tensor[di + 1].item() == MASKED_token:\n",
    "                #topv, topi = decoder_output.topk(1)\n",
    "                #decoder_input = topi.squeeze().detach()  # detach from history as input\n",
    "                #print(decoder_output.min())\n",
    "                token_sample = torch.multinomial(torch.exp(decoder_output), 1)\n",
    "                decoder_input = token_sample.squeeze().detach()\n",
    "                decoded_words.append(input_lang.index2word[decoder_input.item()].upper())\n",
    "            else:\n",
    "                decoder_input = input_tensor[di + 1]\n",
    "                decoded_words.append(input_lang.index2word[decoder_input.item()])\n",
    "            \n",
    "            \n",
    "            if input_tensor[di + 1].item() == EOS_token:\n",
    "                decoded_words.append('EOSTOKEN')\n",
    "                break\n",
    "                \n",
    "        return decoded_words\n",
    "    #, decoder_attentions[:di + 1]\"\"\";"
   ]
  },
  {
   "cell_type": "code",
   "execution_count": 90,
   "metadata": {},
   "outputs": [],
   "source": [
    "\"\"\"def evaluateRandomly(encoder, decoder, input_lang, n=10):\n",
    "    for i in range(n):\n",
    "        \n",
    "        sentence = random.choice(imdb_lines)\n",
    "        pair = tensorsForTrain(input_lang, sentence)\n",
    "        #print('masked:\\n', *list(map(lambda x: input_lang.index2word[x.item()], pair[0])))\n",
    "        print('real:\\n', sentence)\n",
    "        #print('filled:', *list(map(lambda x: input_lang.index2word[x.item()], \n",
    "        #                           evaluate(encoder, decoder, input_lang, sentence))))\n",
    "        #mask = generate_mask(len(sentence.split()), is_present=0.8)\n",
    "        print('filled:\\n', *evaluate(encoder, decoder, input_lang, \n",
    "                                     pair[1]))\"\"\";"
   ]
  },
  {
   "cell_type": "code",
   "execution_count": 45,
   "metadata": {},
   "outputs": [
    {
     "name": "stdout",
     "output_type": "stream",
     "text": [
      "Reading lines...\n",
      "Read 25000 sentence pairs\n",
      "Counting words...\n",
      "Counted words:\n",
      "imdb 32736\n",
      "Wall time: 34.1 s\n"
     ]
    }
   ],
   "source": [
    "%%time\n",
    "imdb_lang, imdb_lines = prepareData('imdb')\n",
    "#print(random.choice(imdb_lines))"
   ]
  },
  {
   "cell_type": "code",
   "execution_count": 112,
   "metadata": {},
   "outputs": [],
   "source": [
    "hidden_size = 64\n",
    "encoder1 = EncoderRNN(imdb_lang.n_words, hidden_size).to(device)\n",
    "attn_decoder1 = AttnDecoderRNN(hidden_size, imdb_lang.n_words, dropout_p=0.1).to(device)\n",
    "#decoder1 = DecoderRNN(hidden_size, imdb_lang.n_words)"
   ]
  },
  {
   "cell_type": "code",
   "execution_count": 116,
   "metadata": {},
   "outputs": [
    {
     "name": "stdout",
     "output_type": "stream",
     "text": [
      "0m 2s (- 0m 22s) (2 10%) 9.1565\n",
      "0m 4s (- 0m 19s) (4 20%) 8.8301\n",
      "0m 7s (- 0m 17s) (6 30%) 8.3646\n",
      "0m 9s (- 0m 14s) (8 40%) 7.6835\n",
      "0m 12s (- 0m 12s) (10 50%) 6.8313\n",
      "0m 14s (- 0m 9s) (12 60%) 5.9963\n",
      "0m 16s (- 0m 7s) (14 70%) 5.3036\n",
      "0m 19s (- 0m 4s) (16 80%) 4.7268\n",
      "0m 21s (- 0m 2s) (18 90%) 4.2689\n",
      "0m 23s (- 0m 0s) (20 100%) 3.9515\n"
     ]
    },
    {
     "data": {
      "text/plain": [
       "<Figure size 432x288 with 0 Axes>"
      ]
     },
     "metadata": {},
     "output_type": "display_data"
    },
    {
     "data": {
      "image/png": "[encoded data removed]",
      "text/plain": [
       "<Figure size 432x288 with 1 Axes>"
      ]
     },
     "metadata": {},
     "output_type": "display_data"
    },
    {
     "name": "stdout",
     "output_type": "stream",
     "text": [
      "plot was shown\n",
      "Wall time: 24.2 s\n"
     ]
    }
   ],
   "source": [
    "%%time\n",
    "trainIters(encoder1, attn_decoder1, imdb_lang, imdb_lines, 20, print_every=2, plot_every=1)"
   ]
  },
  {
   "cell_type": "code",
   "execution_count": 115,
   "metadata": {},
   "outputs": [
    {
     "name": "stdout",
     "output_type": "stream",
     "text": [
      "Total number of trainable parameters: 6384608\n"
     ]
    }
   ],
   "source": [
    "def count_parameters(model):\n",
    "    model_parameters = filter(lambda p: p.requires_grad, model.parameters())\n",
    "    return sum([np.prod(p.size()) for p in model_parameters])\n",
    "\n",
    "print(\"Total number of trainable parameters:\", count_parameters(encoder1) + count_parameters(decoder1))"
   ]
  },
  {
   "cell_type": "code",
   "execution_count": 33,
   "metadata": {},
   "outputs": [
    {
     "name": "stdout",
     "output_type": "stream",
     "text": [
      "real:\n",
      " SOSTOKEN nothin there ain t nothing in room but you ain t got no business going in there anyway so stay out you understand stay out br br never has there been such a feat of psychological horror as this film EOSTOKEN\n",
      "filled:\n",
      " SOSTOKEN nothin there ain t nothing in room but you ain t got no business going in there anyway so stay out you understand stay out br br never has there been such a feat of psychological horror as this film EOSTOKEN EOSTOKEN\n",
      "real:\n",
      " SOSTOKEN deaf secretary carla emmanuelle devos is bullied by her mean spirited male colleagues br br when they suggest she needs an assistant it seems like the final insult but when the first applicant is ex con paul vincent cassel she EOSTOKEN\n",
      "filled:\n",
      " SOSTOKEN deaf secretary carla emmanuelle devos is bullied by her mean spirited male colleagues br br when they suggest she needs an assistant it seems like the final insult but when the first applicant is ex con paul vincent cassel she EOSTOKEN EOSTOKEN\n",
      "real:\n",
      " SOSTOKEN i really felt cheated after seeing this picture it felt like i sat watching this movie minutes for nothing i don t understand what they were thinking when they made this it hardly gets into jeffrey dahmer murdering and it EOSTOKEN\n",
      "filled:\n",
      " SOSTOKEN i really felt cheated after seeing this picture it felt like i sat watching this movie minutes for nothing i don t understand what they were thinking when they made this it hardly gets into jeffrey dahmer murdering and it EOSTOKEN EOSTOKEN\n",
      "real:\n",
      " SOSTOKEN in northeastern of brazil the father of the twelve years old illiterate maria fernanda carvalho sells his daughter to the middle man of a prostitution organization tadeu chico dias to be employed as a housemaid and have a better life EOSTOKEN\n",
      "filled:\n",
      " SOSTOKEN in northeastern of brazil the father of the twelve years old illiterate maria fernanda carvalho sells his daughter to the middle man of a prostitution organization tadeu chico dias to be employed as a housemaid and have a better life EOSTOKEN EOSTOKEN\n",
      "real:\n",
      " SOSTOKEN a missed train a wrong phone number an extra cup of coffee what happens to those around you when you make a seemingly innocuous decision most people don t give it a thought as they absorbed in their own thoughts EOSTOKEN\n",
      "filled:\n",
      " SOSTOKEN a missed train a wrong phone number an extra cup of coffee what happens to those around you when you make a seemingly innocuous decision most people don t give it a thought as they absorbed in their own thoughts EOSTOKEN EOSTOKEN\n"
     ]
    }
   ],
   "source": [
    "evaluateRandomly(encoder1, decoder1, imdb_lang, 5)"
   ]
  },
  {
   "cell_type": "code",
   "execution_count": null,
   "metadata": {},
   "outputs": [],
   "source": []
  }
 ],
 "metadata": {
  "kernelspec": {
   "display_name": "Python 3",
   "language": "python",
   "name": "python3"
  },
  "language_info": {
   "codemirror_mode": {
    "name": "ipython",
    "version": 3
   },
   "file_extension": ".py",
   "mimetype": "text/x-python",
   "name": "python",
   "nbconvert_exporter": "python",
   "pygments_lexer": "ipython3",
   "version": "3.6.5"
  }
 },
 "nbformat": 4,
 "nbformat_minor": 2
}
